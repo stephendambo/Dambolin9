{
  "cells": [
    {
      "cell_type": "markdown",
      "metadata": {
        "id": "view-in-github",
        "colab_type": "text"
      },
      "source": [
        "<a href=\"https://colab.research.google.com/github/stephendambo/Dambolin9/blob/Master/Group_Work_Final_Project_Work.ipynb\" target=\"_parent\"><img src=\"https://colab.research.google.com/assets/colab-badge.svg\" alt=\"Open In Colab\"/></a>"
      ]
    },
    {
      "cell_type": "code",
      "execution_count": null,
      "metadata": {
        "id": "38r_HyLmt6gE"
      },
      "outputs": [],
      "source": [
        "! pip install -q kaggle"
      ]
    },
    {
      "cell_type": "markdown",
      "metadata": {
        "id": "x4i92qEnfLgH"
      },
      "source": [
        "#Loading Dataset"
      ]
    },
    {
      "cell_type": "code",
      "execution_count": null,
      "metadata": {
        "colab": {
          "background_save": true,
          "base_uri": "https://localhost:8080/"
        },
        "id": "vSE4G1zh9jEz",
        "outputId": "cf437bd9-5ea0-4b48-8dee-e544596f3f1b"
      },
      "outputs": [
        {
          "data": {
            "text/html": [
              "\n",
              "     <input type=\"file\" id=\"files-7e73f6fa-1d58-428c-8977-1ca42da47246\" name=\"files[]\" multiple disabled\n",
              "        style=\"border:none\" />\n",
              "     <output id=\"result-7e73f6fa-1d58-428c-8977-1ca42da47246\">\n",
              "      Upload widget is only available when the cell has been executed in the\n",
              "      current browser session. Please rerun this cell to enable.\n",
              "      </output>\n",
              "      <script>// Copyright 2017 Google LLC\n",
              "//\n",
              "// Licensed under the Apache License, Version 2.0 (the \"License\");\n",
              "// you may not use this file except in compliance with the License.\n",
              "// You may obtain a copy of the License at\n",
              "//\n",
              "//      http://www.apache.org/licenses/LICENSE-2.0\n",
              "//\n",
              "// Unless required by applicable law or agreed to in writing, software\n",
              "// distributed under the License is distributed on an \"AS IS\" BASIS,\n",
              "// WITHOUT WARRANTIES OR CONDITIONS OF ANY KIND, either express or implied.\n",
              "// See the License for the specific language governing permissions and\n",
              "// limitations under the License.\n",
              "\n",
              "/**\n",
              " * @fileoverview Helpers for google.colab Python module.\n",
              " */\n",
              "(function(scope) {\n",
              "function span(text, styleAttributes = {}) {\n",
              "  const element = document.createElement('span');\n",
              "  element.textContent = text;\n",
              "  for (const key of Object.keys(styleAttributes)) {\n",
              "    element.style[key] = styleAttributes[key];\n",
              "  }\n",
              "  return element;\n",
              "}\n",
              "\n",
              "// Max number of bytes which will be uploaded at a time.\n",
              "const MAX_PAYLOAD_SIZE = 100 * 1024;\n",
              "\n",
              "function _uploadFiles(inputId, outputId) {\n",
              "  const steps = uploadFilesStep(inputId, outputId);\n",
              "  const outputElement = document.getElementById(outputId);\n",
              "  // Cache steps on the outputElement to make it available for the next call\n",
              "  // to uploadFilesContinue from Python.\n",
              "  outputElement.steps = steps;\n",
              "\n",
              "  return _uploadFilesContinue(outputId);\n",
              "}\n",
              "\n",
              "// This is roughly an async generator (not supported in the browser yet),\n",
              "// where there are multiple asynchronous steps and the Python side is going\n",
              "// to poll for completion of each step.\n",
              "// This uses a Promise to block the python side on completion of each step,\n",
              "// then passes the result of the previous step as the input to the next step.\n",
              "function _uploadFilesContinue(outputId) {\n",
              "  const outputElement = document.getElementById(outputId);\n",
              "  const steps = outputElement.steps;\n",
              "\n",
              "  const next = steps.next(outputElement.lastPromiseValue);\n",
              "  return Promise.resolve(next.value.promise).then((value) => {\n",
              "    // Cache the last promise value to make it available to the next\n",
              "    // step of the generator.\n",
              "    outputElement.lastPromiseValue = value;\n",
              "    return next.value.response;\n",
              "  });\n",
              "}\n",
              "\n",
              "/**\n",
              " * Generator function which is called between each async step of the upload\n",
              " * process.\n",
              " * @param {string} inputId Element ID of the input file picker element.\n",
              " * @param {string} outputId Element ID of the output display.\n",
              " * @return {!Iterable<!Object>} Iterable of next steps.\n",
              " */\n",
              "function* uploadFilesStep(inputId, outputId) {\n",
              "  const inputElement = document.getElementById(inputId);\n",
              "  inputElement.disabled = false;\n",
              "\n",
              "  const outputElement = document.getElementById(outputId);\n",
              "  outputElement.innerHTML = '';\n",
              "\n",
              "  const pickedPromise = new Promise((resolve) => {\n",
              "    inputElement.addEventListener('change', (e) => {\n",
              "      resolve(e.target.files);\n",
              "    });\n",
              "  });\n",
              "\n",
              "  const cancel = document.createElement('button');\n",
              "  inputElement.parentElement.appendChild(cancel);\n",
              "  cancel.textContent = 'Cancel upload';\n",
              "  const cancelPromise = new Promise((resolve) => {\n",
              "    cancel.onclick = () => {\n",
              "      resolve(null);\n",
              "    };\n",
              "  });\n",
              "\n",
              "  // Wait for the user to pick the files.\n",
              "  const files = yield {\n",
              "    promise: Promise.race([pickedPromise, cancelPromise]),\n",
              "    response: {\n",
              "      action: 'starting',\n",
              "    }\n",
              "  };\n",
              "\n",
              "  cancel.remove();\n",
              "\n",
              "  // Disable the input element since further picks are not allowed.\n",
              "  inputElement.disabled = true;\n",
              "\n",
              "  if (!files) {\n",
              "    return {\n",
              "      response: {\n",
              "        action: 'complete',\n",
              "      }\n",
              "    };\n",
              "  }\n",
              "\n",
              "  for (const file of files) {\n",
              "    const li = document.createElement('li');\n",
              "    li.append(span(file.name, {fontWeight: 'bold'}));\n",
              "    li.append(span(\n",
              "        `(${file.type || 'n/a'}) - ${file.size} bytes, ` +\n",
              "        `last modified: ${\n",
              "            file.lastModifiedDate ? file.lastModifiedDate.toLocaleDateString() :\n",
              "                                    'n/a'} - `));\n",
              "    const percent = span('0% done');\n",
              "    li.appendChild(percent);\n",
              "\n",
              "    outputElement.appendChild(li);\n",
              "\n",
              "    const fileDataPromise = new Promise((resolve) => {\n",
              "      const reader = new FileReader();\n",
              "      reader.onload = (e) => {\n",
              "        resolve(e.target.result);\n",
              "      };\n",
              "      reader.readAsArrayBuffer(file);\n",
              "    });\n",
              "    // Wait for the data to be ready.\n",
              "    let fileData = yield {\n",
              "      promise: fileDataPromise,\n",
              "      response: {\n",
              "        action: 'continue',\n",
              "      }\n",
              "    };\n",
              "\n",
              "    // Use a chunked sending to avoid message size limits. See b/62115660.\n",
              "    let position = 0;\n",
              "    do {\n",
              "      const length = Math.min(fileData.byteLength - position, MAX_PAYLOAD_SIZE);\n",
              "      const chunk = new Uint8Array(fileData, position, length);\n",
              "      position += length;\n",
              "\n",
              "      const base64 = btoa(String.fromCharCode.apply(null, chunk));\n",
              "      yield {\n",
              "        response: {\n",
              "          action: 'append',\n",
              "          file: file.name,\n",
              "          data: base64,\n",
              "        },\n",
              "      };\n",
              "\n",
              "      let percentDone = fileData.byteLength === 0 ?\n",
              "          100 :\n",
              "          Math.round((position / fileData.byteLength) * 100);\n",
              "      percent.textContent = `${percentDone}% done`;\n",
              "\n",
              "    } while (position < fileData.byteLength);\n",
              "  }\n",
              "\n",
              "  // All done.\n",
              "  yield {\n",
              "    response: {\n",
              "      action: 'complete',\n",
              "    }\n",
              "  };\n",
              "}\n",
              "\n",
              "scope.google = scope.google || {};\n",
              "scope.google.colab = scope.google.colab || {};\n",
              "scope.google.colab._files = {\n",
              "  _uploadFiles,\n",
              "  _uploadFilesContinue,\n",
              "};\n",
              "})(self);\n",
              "</script> "
            ],
            "text/plain": [
              "<IPython.core.display.HTML object>"
            ]
          },
          "metadata": {},
          "output_type": "display_data"
        }
      ],
      "source": [
        "from google.colab import files\n",
        "files.upload()"
      ]
    },
    {
      "cell_type": "code",
      "execution_count": null,
      "metadata": {
        "id": "Y98l7DFu94ul"
      },
      "outputs": [],
      "source": [
        "! mkdir ~/.kaggle"
      ]
    },
    {
      "cell_type": "code",
      "execution_count": null,
      "metadata": {
        "id": "JVZoMUxC-Ctl"
      },
      "outputs": [],
      "source": [
        "! cp kaggle.json ~/.kaggle/"
      ]
    },
    {
      "cell_type": "code",
      "execution_count": null,
      "metadata": {
        "id": "1XRqC2ei_B0N"
      },
      "outputs": [],
      "source": [
        "! chmod 600 ~/.kaggle/kaggle.json"
      ]
    },
    {
      "cell_type": "code",
      "execution_count": null,
      "metadata": {
        "id": "kGbO0VUM_kuz"
      },
      "outputs": [],
      "source": [
        "! kaggle datasets list"
      ]
    },
    {
      "cell_type": "code",
      "execution_count": null,
      "metadata": {
        "id": "zizvQ_Ng_qdM"
      },
      "outputs": [],
      "source": [
        "! kaggle datasets download -d iabhishekofficial/mobile-price-classification"
      ]
    },
    {
      "cell_type": "code",
      "execution_count": null,
      "metadata": {
        "id": "C_4N24AKA3OR"
      },
      "outputs": [],
      "source": [
        "! unzip mobile-price-classification"
      ]
    },
    {
      "cell_type": "code",
      "execution_count": null,
      "metadata": {
        "id": "sn88lXa4BOTd"
      },
      "outputs": [],
      "source": [
        "import numpy as np\n",
        "import pandas as pd\n",
        "import seaborn as sns\n",
        "import warnings\n",
        "warnings.filterwarnings(\"ignore\")\n",
        "import matplotlib.pyplot as plt\n",
        "%matplotlib inline"
      ]
    },
    {
      "cell_type": "markdown",
      "metadata": {
        "id": "1QrAkbqiiQmw"
      },
      "source": [
        "#Dataset Top 5 Rows & Colunms"
      ]
    },
    {
      "cell_type": "code",
      "execution_count": null,
      "metadata": {
        "id": "j__xTg5YD2za"
      },
      "outputs": [],
      "source": [
        "df = pd.read_csv(/content/train.csv, header = 0)\n",
        "df.head()"
      ]
    },
    {
      "cell_type": "markdown",
      "metadata": {
        "id": "pJzHmsBAiooT"
      },
      "source": [
        "#Dataset Bottom 5 Rows & Colunms"
      ]
    },
    {
      "cell_type": "code",
      "execution_count": null,
      "metadata": {
        "id": "Z1DETaoIi5Y3"
      },
      "outputs": [],
      "source": [
        "df.tail()"
      ]
    },
    {
      "cell_type": "markdown",
      "metadata": {
        "id": "hW3vHiX2jGvK"
      },
      "source": [
        "#Exploratory Analysis"
      ]
    },
    {
      "cell_type": "markdown",
      "metadata": {
        "id": "VPD58nVTjQhM"
      },
      "source": [
        "#Dataset Rows And Columns Count"
      ]
    },
    {
      "cell_type": "code",
      "execution_count": null,
      "metadata": {
        "id": "hSmZWZIyO1z_"
      },
      "outputs": [],
      "source": [
        "df.shape"
      ]
    },
    {
      "cell_type": "markdown",
      "metadata": {
        "id": "Ez0NROmSjaH5"
      },
      "source": [
        "#Dataset Informations"
      ]
    },
    {
      "cell_type": "code",
      "execution_count": null,
      "metadata": {
        "id": "YRUNfSO1jkxk"
      },
      "outputs": [],
      "source": [
        "df.info()"
      ]
    },
    {
      "cell_type": "markdown",
      "metadata": {
        "id": "9lioT8QvjtQo"
      },
      "source": [
        "#Duplicate Count"
      ]
    },
    {
      "cell_type": "code",
      "execution_count": null,
      "metadata": {
        "id": "u-glBmxhj0g1"
      },
      "outputs": [],
      "source": [
        "duplicate_value = len(df[df.duplicated()])\n",
        "print('Number of duplicated value:', duplicate_value)"
      ]
    },
    {
      "cell_type": "markdown",
      "metadata": {
        "id": "KMvuTtfsj8IF"
      },
      "source": [
        "#Missing Values/Null Count"
      ]
    },
    {
      "cell_type": "code",
      "execution_count": null,
      "metadata": {
        "id": "9i3zidEakCwa"
      },
      "outputs": [],
      "source": [
        "df.isna().sum()"
      ]
    },
    {
      "cell_type": "markdown",
      "metadata": {
        "id": "YgaGBW3-kMYd"
      },
      "source": [
        "#Statistical Information of Dataset"
      ]
    },
    {
      "cell_type": "code",
      "execution_count": null,
      "metadata": {
        "id": "Z7y1vKf5kPhI"
      },
      "outputs": [],
      "source": [
        "df.describe()"
      ]
    },
    {
      "cell_type": "markdown",
      "metadata": {
        "id": "lmF2_tYLkajH"
      },
      "source": [
        "#Dataset Visualization"
      ]
    },
    {
      "cell_type": "markdown",
      "metadata": {
        "id": "Clqe5GMikuGC"
      },
      "source": [
        "#Price Range"
      ]
    },
    {
      "cell_type": "code",
      "execution_count": null,
      "metadata": {
        "id": "TMjmp0Mfkwsh"
      },
      "outputs": [],
      "source": [
        "price_counts = df['price_range'].value_counts()\n",
        "plt.pie(price_counts, labels=price_counts.index, autopct='%1.1f%%')\n",
        "plt.title('Price Range Distribution')\n",
        "plt.show()"
      ]
    },
    {
      "cell_type": "markdown",
      "metadata": {
        "id": "uHWc_httUELu"
      },
      "source": [
        "#Relationship Between Battery Power And Price Range"
      ]
    },
    {
      "cell_type": "code",
      "execution_count": null,
      "metadata": {
        "id": "fftx47luTcCS"
      },
      "outputs": [],
      "source": [
        "sns.pointplot(y = 'battery_power', x = 'price_range', data=df)"
      ]
    },
    {
      "cell_type": "markdown",
      "metadata": {
        "id": "594mQSWVUkjq"
      },
      "source": [
        "#Relationship Between Internal Memory And Price Range"
      ]
    },
    {
      "cell_type": "code",
      "execution_count": null,
      "metadata": {
        "id": "acdO9g-0U1je"
      },
      "outputs": [],
      "source": [
        "sns.pointplot(y = 'int_memory', x = 'price_range', data=df)"
      ]
    },
    {
      "cell_type": "markdown",
      "metadata": {
        "id": "mgrQhFYXQmAo"
      },
      "source": [
        "#Plotting Relationship Between Price Range And Ram"
      ]
    },
    {
      "cell_type": "code",
      "execution_count": null,
      "metadata": {
        "id": "_QlMrlT0Q4OV"
      },
      "outputs": [],
      "source": [
        "sns.pointplot(y = 'ram', x = 'price_range', data=df)"
      ]
    },
    {
      "cell_type": "markdown",
      "metadata": {
        "id": "4rj2SD4YmdYY"
      },
      "source": [
        "#With or without bluetooth vs price range"
      ]
    },
    {
      "cell_type": "code",
      "execution_count": null,
      "metadata": {
        "id": "eL9iZpU9mfjq"
      },
      "outputs": [],
      "source": [
        "fig, ax = plt.subplots(figsize=(10,5))\n",
        "sns.barplot(data=df, x='blue', y='price_range', ax=ax)\n",
        "plt.show()"
      ]
    },
    {
      "cell_type": "markdown",
      "metadata": {
        "id": "TG0B5voal0-Y"
      },
      "source": [
        "#Bluetooth vs Price Range"
      ]
    },
    {
      "cell_type": "code",
      "execution_count": null,
      "metadata": {
        "id": "mFHksmTDwQWG"
      },
      "outputs": [],
      "source": [
        "sns.pointplot(y = 'blue', x = 'price_range', data=df)"
      ]
    },
    {
      "cell_type": "markdown",
      "metadata": {
        "id": "6-bgUf_nmuu5"
      },
      "source": [
        "#Primary Camera Pixies vs Price Range"
      ]
    },
    {
      "cell_type": "code",
      "execution_count": null,
      "metadata": {
        "id": "xALEXQImm7zR"
      },
      "outputs": [],
      "source": [
        "sns.pointplot(y = 'pc', x = 'price_range', data=df)"
      ]
    },
    {
      "cell_type": "markdown",
      "metadata": {
        "id": "tBxvh-5UnOeo"
      },
      "source": [
        "#Front Camera vs Price Range"
      ]
    },
    {
      "cell_type": "code",
      "execution_count": null,
      "metadata": {
        "id": "rFU5_dL1nQP7"
      },
      "outputs": [],
      "source": [
        "sns.boxplot(x='price_range', y='fc', data=df)\n",
        "plt.xlabel('Price Range')\n",
        "plt.ylabel('Front Camera Megapixels')\n",
        "plt.title('Front Camera Megapixels vs Price Range')\n",
        "plt.show()"
      ]
    },
    {
      "cell_type": "markdown",
      "metadata": {
        "id": "6zeQiJsunfIY"
      },
      "source": [
        "#Touch screen Vs Price Range"
      ]
    },
    {
      "cell_type": "code",
      "execution_count": null,
      "metadata": {
        "id": "V4A3NSLansUn"
      },
      "outputs": [],
      "source": [
        "sns.boxplot(x='price_range', y='touch_screen', data=df)\n",
        "plt.xlabel('Price Range')\n",
        "plt.ylabel('Touch Screen')\n",
        "plt.title('Touch Screen vs Price Range')\n",
        "plt.show()"
      ]
    },
    {
      "cell_type": "markdown",
      "metadata": {
        "id": "adu5IpTFn-dC"
      },
      "source": [
        "#3G vs Price Range"
      ]
    },
    {
      "cell_type": "code",
      "execution_count": null,
      "metadata": {
        "id": "wb_EyHaJ7qdY"
      },
      "outputs": [],
      "source": [
        "sns.barplot(x='price_range', y='three_g', data=df)"
      ]
    },
    {
      "cell_type": "markdown",
      "metadata": {
        "id": "h7be44FEog9a"
      },
      "source": [
        "#4G vs Price Range"
      ]
    },
    {
      "cell_type": "code",
      "execution_count": null,
      "metadata": {
        "id": "b7_-EX_8ooFe"
      },
      "outputs": [],
      "source": [
        "sns.barplot(x='price_range', y='four_g', data=df)"
      ]
    },
    {
      "cell_type": "markdown",
      "metadata": {
        "id": "gQ7LnUjZpb12"
      },
      "source": [
        "#Wifi Availability vs Price Range"
      ]
    },
    {
      "cell_type": "code",
      "execution_count": null,
      "metadata": {
        "id": "oc9dYOmQpduA"
      },
      "outputs": [],
      "source": [
        "price_ranges = {\n",
        "    'low': (0,50),\n",
        "    'medium': (51,100),\n",
        "    'high': (101,200),\n",
        "    'premium': (201, float('inf')),\n",
        "\n",
        "}\n",
        "wifi_availabilities = {\n",
        "    'low': True,\n",
        "    'medium': True,\n",
        "    'high': False,\n",
        "    'premium': True\n",
        "}\n",
        "\n",
        "wifi_counts = {\n",
        "    'available': 0,\n",
        "    'unavailable': 0,\n",
        "}\n",
        "for price_range, wifi_available in wifi_availabilities.items():\n",
        "    if wifi_available:\n",
        "      wifi_counts['available'] += 1\n",
        "    else:\n",
        "        wifi_counts['unavailable'] += 1\n",
        "\n",
        "        labels = ['Wifi available', 'Wifi unavailable']\n",
        "        sizes = [wifi_counts['available'], wifi_counts['unavailable']]\n",
        "        colors = ['#66cc66', '#ff6666']\n",
        "        fig, ax = plt.subplots()\n",
        "        ax.pie(sizes, labels=labels, colors=colors, autopct='%1.1f%%', startangle=90)\n",
        "        ax.axis('equal')\n",
        "        plt.title('Wifi availability by price range')\n",
        "        plt.show()\n"
      ]
    },
    {
      "cell_type": "markdown",
      "metadata": {
        "id": "4XRogFdcqiKe"
      },
      "source": [
        "#Correlation Heatmap"
      ]
    },
    {
      "cell_type": "code",
      "execution_count": null,
      "metadata": {
        "id": "_uqDHAG9qoJ3"
      },
      "outputs": [],
      "source": [
        "correlation = df.corr()\n",
        "plt.figure(figsize=[12,6])\n",
        "sns.heatmap(correlation, cmap='viridis', annot=True, annot_kws={'fontsize':10})\n",
        "plt.show()"
      ]
    },
    {
      "cell_type": "markdown",
      "metadata": {
        "id": "WHaRbhNHrEMq"
      },
      "source": [
        "#Hypothesis Testing\n",
        "1. Null hypothesis: All categories of phone are distributed with equal price range\n",
        "2. Alternative hypothesis: All categories of phone are not distributed with equal price range"
      ]
    },
    {
      "cell_type": "code",
      "execution_count": null,
      "metadata": {
        "id": "JyB-iTxdrbNh"
      },
      "outputs": [],
      "source": [
        "from ipywidgets.widgets.widget_upload import observe\n",
        "import pandas as pd\n",
        "from scipy import stats #Perform Statistical test to obtain p-value\n",
        "observed_freq = df['price_range'].value_counts().values #Calculated observed frequency distribution\n",
        "total = len(df)\n",
        "expected_freq = [total/4]*4 #Calculatee expected frequency distribution\n",
        "chi2, p = stats.chisquare(observed_freq, f_exp=expected_freq) #Perform chi-square goodness-of-fit test\n",
        "print(f'Chi-square statistics: {chi2}, p-value: {p}') #Print results"
      ]
    },
    {
      "cell_type": "markdown",
      "metadata": {
        "id": "FCEntFhdrnk4"
      },
      "source": [
        "#Feature Enginnering And Data-Preprocessing"
      ]
    },
    {
      "cell_type": "markdown",
      "metadata": {
        "id": "VXR7dWzkrukn"
      },
      "source": [
        "#Checking And Handling Outliers"
      ]
    },
    {
      "cell_type": "code",
      "execution_count": null,
      "metadata": {
        "id": "EUjDi6GcrkXz"
      },
      "outputs": [],
      "source": [
        "plt.figure(figsize=(20,20))\n",
        "for index, item in enumerate([i for i in df.describe().columns.to_list()]):\n",
        "  plt.subplot(5,5, index+1)\n",
        "  sns.boxplot(df[item])\n",
        "  plt.title(item)\n",
        "  plt.subplots_adjust(hspace=0.5)\n",
        "  print(\"\\n\")"
      ]
    },
    {
      "cell_type": "markdown",
      "metadata": {
        "id": "cKza1FPBsGTO"
      },
      "source": [
        "#Categorical Encoding"
      ]
    },
    {
      "cell_type": "markdown",
      "metadata": {
        "id": "IBgn4AdSsM6p"
      },
      "source": [
        "Categorical encoding is not necessary because all values are in integer and float"
      ]
    },
    {
      "cell_type": "markdown",
      "metadata": {
        "id": "x5u3scDBsZnL"
      },
      "source": [
        "#Data Transformation"
      ]
    },
    {
      "cell_type": "markdown",
      "metadata": {
        "id": "5I5xkeucsg0i"
      },
      "source": [
        "#Renaming Columns"
      ]
    },
    {
      "cell_type": "code",
      "execution_count": null,
      "metadata": {
        "id": "drHil-AessSw"
      },
      "outputs": [],
      "source": [
        "df_trainset = df"
      ]
    },
    {
      "cell_type": "code",
      "execution_count": null,
      "metadata": {
        "id": "n98T5d6rs4BO"
      },
      "outputs": [],
      "source": [
        "#df_trainset = df_trainset.rename(columns = {'blue': 'bluetooth', 'fc': 'front_cam_pix', 'm_dep': 'mobile_depth', 'n_cores': 'num_of_core', 'pc': 'primary_cam_pix', 'sc_h': 'screen_height', 'sc_w': 'screen_width'})"
      ]
    },
    {
      "cell_type": "code",
      "execution_count": null,
      "metadata": {
        "id": "6g4MwSUxs-CH"
      },
      "outputs": [],
      "source": [
        "df_trainset"
      ]
    },
    {
      "cell_type": "code",
      "execution_count": null,
      "metadata": {
        "id": "GuQlnYEZtO-N"
      },
      "outputs": [],
      "source": [
        "df_trainset.shape"
      ]
    },
    {
      "cell_type": "code",
      "execution_count": null,
      "metadata": {
        "id": "RJPD_RTbTz9o"
      },
      "outputs": [],
      "source": [
        "#columns_to_delete = ['mobile_depth', 'mobile_wt', 'num_of_core', 'screen_height', 'screen_width']\n",
        "#df_trainset = df_trainset.drop(columns_to_delete, axis=1)"
      ]
    },
    {
      "cell_type": "code",
      "execution_count": null,
      "metadata": {
        "id": "st4O3Ono9XcC"
      },
      "outputs": [],
      "source": [
        "#columns_to_delete = ['mobile_wt', 'screen_height']\n",
        "#df_trainset = df_trainset.drop(columns_to_delete, axis=1)"
      ]
    },
    {
      "cell_type": "markdown",
      "metadata": {
        "id": "QD4ehofub3sz"
      },
      "source": [
        "Deleting mobile_depth,\tmobile_wt,\tnum_of_core, screen_height and\tscreen_width columns from our data did not make ny difference to te accuracy of our machine learning model using linear regression"
      ]
    },
    {
      "cell_type": "code",
      "execution_count": null,
      "metadata": {
        "id": "xwjnlQxd85E5"
      },
      "outputs": [],
      "source": [
        "df_trainset.shape"
      ]
    },
    {
      "cell_type": "markdown",
      "metadata": {
        "id": "ZaOgBHeptVHn"
      },
      "source": [
        "#Data Scaling"
      ]
    },
    {
      "cell_type": "code",
      "execution_count": null,
      "metadata": {
        "id": "SzZ3_xDktbHr"
      },
      "outputs": [],
      "source": [
        "from sklearn.preprocessing import MinMaxScaler\n",
        "scaler = MinMaxScaler() #Scaling value of df_trainset\n",
        "df_trainset_scaled = scaler.fit_transform(df_trainset)"
      ]
    },
    {
      "cell_type": "markdown",
      "metadata": {
        "id": "Uxn-prV8PVhg"
      },
      "source": [
        "Removing/Dropping Columns From Dataset"
      ]
    },
    {
      "cell_type": "markdown",
      "metadata": {
        "id": "YekHCJQntjdo"
      },
      "source": [
        "#Data Splitting"
      ]
    },
    {
      "cell_type": "code",
      "execution_count": null,
      "metadata": {
        "id": "9zyebXEOtqNn"
      },
      "outputs": [],
      "source": [
        "X = df_trainset.drop(['price_range'], axis=1)\n",
        "y = df_trainset['price_range']"
      ]
    },
    {
      "cell_type": "code",
      "execution_count": null,
      "metadata": {
        "id": "oEVe7XIttvvl"
      },
      "outputs": [],
      "source": [
        "X.shape"
      ]
    },
    {
      "cell_type": "code",
      "execution_count": null,
      "metadata": {
        "id": "oYStCLsnt2jL"
      },
      "outputs": [],
      "source": [
        "y.shape"
      ]
    },
    {
      "cell_type": "markdown",
      "metadata": {
        "id": "CYPejkmCt9Fs"
      },
      "source": [
        "#Splitting dataset into train and test sets"
      ]
    },
    {
      "cell_type": "code",
      "execution_count": null,
      "metadata": {
        "id": "hNowjAuauEPc"
      },
      "outputs": [],
      "source": [
        "from sklearn.model_selection import train_test_split\n",
        "X_train, x_test, y_train, y_test = train_test_split(X, y, test_size = 0.20, random_state = 12)"
      ]
    },
    {
      "cell_type": "code",
      "execution_count": null,
      "metadata": {
        "id": "GtBIsKcFuLEA"
      },
      "outputs": [],
      "source": [
        "X_train.shape"
      ]
    },
    {
      "cell_type": "code",
      "execution_count": null,
      "metadata": {
        "id": "BQjK3AIxuQkx"
      },
      "outputs": [],
      "source": [
        "y_train.shape"
      ]
    },
    {
      "cell_type": "markdown",
      "metadata": {
        "id": "Gks-A05ZuXQV"
      },
      "source": [
        "#ML Model Implementation\n",
        "#Logistic Regression"
      ]
    },
    {
      "cell_type": "code",
      "execution_count": null,
      "metadata": {
        "id": "3Jf-wrMOugmd"
      },
      "outputs": [],
      "source": [
        "#from sklearn.neighbors import KNeighborsClassifier\n",
        "#knn = KNeighborsClassifier(n_neighbors=10)\n",
        "#knn.fit(X_train, y_train)"
      ]
    },
    {
      "cell_type": "code",
      "execution_count": null,
      "metadata": {
        "id": "0BpDflJruoMx"
      },
      "outputs": [],
      "source": [
        "#knn.score(X_train, y_train)"
      ]
    },
    {
      "cell_type": "code",
      "execution_count": null,
      "metadata": {
        "id": "PFlSWeveutdW"
      },
      "outputs": [],
      "source": [
        "#predictions = knn.predict(x_test)"
      ]
    },
    {
      "cell_type": "code",
      "execution_count": null,
      "metadata": {
        "id": "NoMKPcD9u1W6"
      },
      "outputs": [],
      "source": [
        "#from sklearn.metrics import accuracy_score\n",
        "#accuracy_score(y_test, predictions)"
      ]
    },
    {
      "cell_type": "markdown",
      "metadata": {
        "id": "8hXMKzTTJ3fb"
      },
      "source": [
        "Linear Regression\n",
        "Types\n",
        "Simple Linear Regression (use X to predict Y)\n",
        "Multlipe Linear Regression (use multiple X values to predict Y)\n",
        "X values battery life, front camera pixes, number of core processors, etc. to predict Y which is price category 1,2,3\n",
        "Polynomial Linear Regression"
      ]
    },
    {
      "cell_type": "code",
      "execution_count": null,
      "metadata": {
        "id": "_vo3qV2-KqvG"
      },
      "outputs": [],
      "source": [
        "#Slit Data set\n",
        "#Fitting multiple Linear Regression to our Traing Set\n",
        "from sklearn.linear_model import LinearRegression\n",
        "regressor = LinearRegression()\n",
        "regressor.fit(x_test, y_test)\n"
      ]
    },
    {
      "cell_type": "markdown",
      "metadata": {
        "id": "vVsZ-72YMBcr"
      },
      "source": [
        "This will calculate the values for slope of line for linear regression"
      ]
    },
    {
      "cell_type": "code",
      "execution_count": null,
      "metadata": {
        "id": "9sZY4gGAMAKt"
      },
      "outputs": [],
      "source": [
        "#Predicting the test set result\n",
        "y_pred = regressor.predict(x_test)\n",
        "y_pred"
      ]
    },
    {
      "cell_type": "markdown",
      "metadata": {
        "id": "J9bU8qEJOT8V"
      },
      "source": [
        "To get the accuracy score of our model"
      ]
    },
    {
      "cell_type": "code",
      "execution_count": null,
      "metadata": {
        "id": "U2UuVj-rMbzy"
      },
      "outputs": [],
      "source": []
    },
    {
      "cell_type": "markdown",
      "metadata": {
        "id": "zm91eZ0MOIWp"
      },
      "source": [
        "How to increase Data accuracy"
      ]
    },
    {
      "cell_type": "markdown",
      "metadata": {
        "id": "WpuOnxTXP1ID"
      },
      "source": [
        "KNN (K Nearest Neighbor)"
      ]
    },
    {
      "cell_type": "markdown",
      "metadata": {
        "id": "-w51iz23X_-v"
      },
      "source": [
        "Import our libraries"
      ]
    },
    {
      "cell_type": "code",
      "execution_count": null,
      "metadata": {
        "id": "-W08xPAHP63t"
      },
      "outputs": [],
      "source": [
        "from sklearn.preprocessing import StandardScaler\n",
        "from sklearn.neighbors import KNeighborsClassifier\n",
        "from sklearn.metrics import confusion_matrix\n",
        "from sklearn.metrics import f1_score\n",
        "from sklearn.metrics import accuracy_score"
      ]
    },
    {
      "cell_type": "markdown",
      "metadata": {
        "id": "XyRrgCQgYDN3"
      },
      "source": [
        "Creating our KNN"
      ]
    },
    {
      "cell_type": "code",
      "execution_count": null,
      "metadata": {
        "id": "xijKiFQiTncU"
      },
      "outputs": [],
      "source": [
        "knn = KNeighborsClassifier (n_neighbors=3)\n",
        "#since our price has 3 categories our n_neighbors would be 3\n",
        "knn.fit (X_train, y_train)"
      ]
    },
    {
      "cell_type": "markdown",
      "metadata": {
        "id": "BO8DMvU4YG78"
      },
      "source": [
        "Checking our model accuracy"
      ]
    },
    {
      "cell_type": "code",
      "execution_count": null,
      "metadata": {
        "id": "dgjkN3hkT_wm"
      },
      "outputs": [],
      "source": [
        "knn.score(x_test, y_test)"
      ]
    },
    {
      "cell_type": "markdown",
      "metadata": {
        "id": "_hUTY82CYNGk"
      },
      "source": [
        "Model accuracy is 91%"
      ]
    },
    {
      "cell_type": "markdown",
      "metadata": {
        "id": "wl6tY6ciF_LC"
      },
      "source": [
        "euclidean method in confusion for false positives(number of wrong predictions)"
      ]
    },
    {
      "cell_type": "markdown",
      "metadata": {
        "id": "e6Pq8Gr6YfzP"
      },
      "source": [
        "Plotting graph to visualize model accuracy using confusion matrix"
      ]
    },
    {
      "cell_type": "code",
      "execution_count": null,
      "metadata": {
        "id": "gCrs0tV2Vulb"
      },
      "outputs": [],
      "source": [
        "y_pred = knn.predict(x_test)\n",
        "cm = confusion_matrix(y_test, y_pred)\n",
        "cm"
      ]
    },
    {
      "cell_type": "code",
      "execution_count": null,
      "metadata": {
        "id": "5WqNYtwHUMGo"
      },
      "outputs": [],
      "source": [
        "%matplotlib inline\n",
        "import matplotlib.pyplot as plt\n",
        "import seaborn as sn\n",
        "plt.figure(figsize=(7,5))\n",
        "sn.heatmap(cm, annot = True)\n",
        "plt.xlabel('Predicted')\n",
        "plt.ylabel ('Truth')"
      ]
    },
    {
      "cell_type": "markdown",
      "metadata": {
        "id": "jC34g8IQXUhw"
      },
      "source": [
        "Eclidean Metric of KNN"
      ]
    },
    {
      "cell_type": "code",
      "execution_count": null,
      "metadata": {
        "id": "cf6jhfPT6YMX"
      },
      "outputs": [],
      "source": [
        "import numpy as np\n",
        "import pandas as pd\n",
        "import seaborn as sns\n",
        "import warnings\n",
        "warnings.filterwarnings(\"ignore\")\n",
        "import matplotlib.pyplot as plt\n",
        "%matplotlib inline"
      ]
    },
    {
      "cell_type": "code",
      "execution_count": null,
      "metadata": {
        "id": "gvlAlDVl3-W1"
      },
      "outputs": [],
      "source": [
        "df = pd.read_csv('/content/test.csv', header = 0)"
      ]
    },
    {
      "cell_type": "code",
      "execution_count": null,
      "metadata": {
        "id": "G8-NSNCu6dRq"
      },
      "outputs": [],
      "source": [
        "df.describe"
      ]
    },
    {
      "cell_type": "code",
      "execution_count": null,
      "metadata": {
        "id": "banob8Er6jWa"
      },
      "outputs": [],
      "source": [
        "df.shape"
      ]
    },
    {
      "cell_type": "code",
      "execution_count": null,
      "metadata": {
        "id": "uLfLyFXK7ZEf"
      },
      "outputs": [],
      "source": [
        "df_test = df"
      ]
    },
    {
      "cell_type": "code",
      "execution_count": null,
      "metadata": {
        "id": "10G9ggDm6pX_"
      },
      "outputs": [],
      "source": [
        "df_test = df.drop('id', axis=1)"
      ]
    },
    {
      "cell_type": "code",
      "execution_count": null,
      "metadata": {
        "id": "d12XIBEz7_Ux"
      },
      "outputs": [],
      "source": [
        "df_test"
      ]
    },
    {
      "cell_type": "code",
      "execution_count": null,
      "metadata": {
        "id": "yY3zYtNo8IFe"
      },
      "outputs": [],
      "source": [
        "df_test.shape"
      ]
    },
    {
      "cell_type": "code",
      "execution_count": null,
      "metadata": {
        "id": "Qb6OZK3w-fk2"
      },
      "outputs": [],
      "source": [
        "test_pred = knn.predict(df_test)"
      ]
    },
    {
      "cell_type": "code",
      "execution_count": null,
      "metadata": {
        "id": "NIgeBhlsAGFq"
      },
      "outputs": [],
      "source": [
        "#test_pred['predicted_price'] = test_pred\n",
        "df_test['predicted_price']= test_pred"
      ]
    },
    {
      "cell_type": "code",
      "execution_count": null,
      "metadata": {
        "id": "e7vYTtxoCPYr"
      },
      "outputs": [],
      "source": [
        "df_test.head()"
      ]
    },
    {
      "cell_type": "code",
      "execution_count": null,
      "metadata": {
        "id": "uTZZ6mCaCeoG"
      },
      "outputs": [],
      "source": [
        "df_test"
      ]
    },
    {
      "cell_type": "code",
      "execution_count": null,
      "metadata": {
        "id": "j1m-k8hOCpU2"
      },
      "outputs": [],
      "source": [
        "df_test.shape"
      ]
    },
    {
      "cell_type": "code",
      "execution_count": null,
      "metadata": {
        "id": "5RmvFsfjC8nQ"
      },
      "outputs": [],
      "source": [
        "sns.pointplot(y = 'battery_power', x = 'predicted_price', data=df_test)"
      ]
    },
    {
      "cell_type": "code",
      "execution_count": null,
      "metadata": {
        "id": "s6-GEGe0IY78"
      },
      "outputs": [],
      "source": [
        "sns.pointplot(y = 'ram', x = 'predicted_price', data=df_test)"
      ]
    },
    {
      "cell_type": "markdown",
      "metadata": {
        "id": "mkou3Mx8KWSr"
      },
      "source": [
        "We can conclude that certain features on a phone are neccessary for a price range. We can reduce number of non-essential features of a phone and save resources"
      ]
    },
    {
      "cell_type": "markdown",
      "metadata": {
        "id": "Ec5pedMEMttx"
      },
      "source": []
    },
    {
      "cell_type": "markdown",
      "metadata": {
        "id": "Y6ktPsqRQvoL"
      },
      "source": [
        "DATA ATTRIBUTES\n",
        "In this data;\n",
        "id:ID\n",
        "battery_power: Total energy a battery can store measured in mAh\n",
        "blue: Has bleutooth or not\n",
        "clock_speed: Speed at which microprocessor executes instructions\n",
        "dual_sim: Has duel sim support or not\n",
        "fc: Front camera mega pixels\n",
        "four_g: Has 4G or not\n",
        "int_memory: Internal memory in Gigabytes\n",
        "m_dep: Mobile Depth in cm\n",
        "mobile_wt: Weight Of Mobile Phone\n",
        "n_cores: Number Of cores Of Processor\n",
        "pc: Primary Camera Mega Pixels\n",
        "px_height: Pixel Resolution Height\n",
        "px_width: Pixel Resolution Weight\n",
        "ram: Ramdom Access Memory in Megabytes\n",
        "sc_h: Screen Height Of Mobile in cm\n",
        "sc_w: Screen Width Of Mobile in cm\n",
        "talk_time: Longest time that a single battery charge will last\n",
        "three_g: Has 3G or not\n",
        "touch_screen: Has touch screen or not\n",
        "wifi: Has wifi or not\n",
        "\n",
        "\n",
        "\n"
      ]
    },
    {
      "cell_type": "markdown",
      "metadata": {
        "id": "G1OoBow2Jxof"
      },
      "source": []
    }
  ],
  "metadata": {
    "colab": {
      "provenance": [],
      "include_colab_link": true
    },
    "kernelspec": {
      "display_name": "Python 3",
      "name": "python3"
    },
    "language_info": {
      "name": "python"
    }
  },
  "nbformat": 4,
  "nbformat_minor": 0
}